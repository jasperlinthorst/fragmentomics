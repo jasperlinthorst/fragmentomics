{
 "cells": [
  {
   "cell_type": "markdown",
   "id": "9405b153",
   "metadata": {},
   "source": [
    "# Example code for fragmentomic feature extraction"
   ]
  },
  {
   "cell_type": "markdown",
   "id": "1396f625",
   "metadata": {},
   "source": [
    "The purpose of this notebook is to provide insights into how different fragementomic features were extracted from aligned cfDNA sequencing data for our cfDNA GWAS study."
   ]
  },
  {
   "cell_type": "markdown",
   "id": "a39a47b1",
   "metadata": {},
   "source": [
    "The following code snippets make use of the bioinformatics commandline tools: samtools and bedtools. The python code makes use of pandas and pysam.\n",
    "\n",
    "The code is meant to provide insight into how features were extracted and is not meant to be run out of the box.\n",
    "\n",
    "The actual code that was run as part of a multiple independent workflows."
   ]
  },
  {
   "cell_type": "code",
   "execution_count": 131,
   "id": "3fed06d6",
   "metadata": {},
   "outputs": [],
   "source": [
    "import pysam\n",
    "import numpy as np\n",
    "import pandas as pd"
   ]
  },
  {
   "cell_type": "markdown",
   "id": "537b0887",
   "metadata": {},
   "source": [
    "# Nucleotide Cleave-site motif diversity"
   ]
  },
  {
   "cell_type": "code",
   "execution_count": 5,
   "id": "30b8a764",
   "metadata": {},
   "outputs": [
    {
     "name": "stderr",
     "output_type": "stream",
     "text": [
      "[E::cram_index_load] Could not retrieve index file for 'test.cram'\n"
     ]
    }
   ],
   "source": [
    "\n",
    "cramfilename=\"test.cram\"\n",
    "reference=\"hg38flat.fa\"\n",
    "\n",
    "cram=pysam.AlignmentFile(cramfilename,reference_filename=reference)\n",
    "fasta=pysam.FastaFile(reference)\n",
    "\n",
    "k=8\n",
    "\n",
    "revcomptable = str.maketrans(\"acgtACGT\",\"tgcaTGCA\")\n",
    "\n",
    "# n=int(wildcards.samplen) if wildcards.samplen!=\"ALL\" else None\n",
    "\n",
    "kmers=[]\n",
    "d={}\n",
    "for i in range(4**k):\n",
    "    s=\"\"\n",
    "    for j in range(k):\n",
    "        s+=\"ACGT\"[int(i/(4**(k-j-1)))%4]\n",
    "\n",
    "    rcs=s.translate(revcomptable)[::-1]\n",
    "\n",
    "    if s <= rcs:\n",
    "        kmers.append(s)\n",
    "        d[s]=0\n",
    "\n",
    "i=0\n",
    "for read in cram:\n",
    "    if not read.is_unmapped and not read.is_duplicate and read.mapq==60 and read.reference_start>int(k/2) and read.reference_end<cram.get_reference_length(read.reference_name)-int(k/2):\n",
    "\n",
    "        if read.is_reverse:\n",
    "            s=fasta.fetch(read.reference_name,int(read.reference_end-k/2),int(read.reference_end+k/2)).upper()\n",
    "        else:\n",
    "            s=fasta.fetch(read.reference_name,int(read.reference_start-k/2),int(read.reference_start+k/2)).upper()\n",
    "\n",
    "        if 'N' not in s:\n",
    "            try:\n",
    "                rcs=s.translate(revcomptable)[::-1]\n",
    "\n",
    "                d[s if s<rcs else rcs]+=1\n",
    "                i+=1\n",
    "            except KeyError: #skip when reads have other characters than ACGT\n",
    "                print(\"Err\",s)\n",
    "                pass"
   ]
  },
  {
   "cell_type": "markdown",
   "id": "e2d5f0f0",
   "metadata": {},
   "source": [
    "The diversity index is then calculated as follows:"
   ]
  },
  {
   "cell_type": "code",
   "execution_count": 102,
   "id": "d104909a",
   "metadata": {},
   "outputs": [],
   "source": [
    "cleavesitemotifdist=np.array(list(d.values()))+1"
   ]
  },
  {
   "cell_type": "code",
   "execution_count": 103,
   "id": "5ba30317",
   "metadata": {},
   "outputs": [
    {
     "data": {
      "text/plain": [
       "0.9388584615800628"
      ]
     },
     "execution_count": 103,
     "metadata": {},
     "output_type": "execute_result"
    }
   ],
   "source": [
    "np.sum( (-(cleavesitemotifdist/cleavesitemotifdist.sum()) * np.log(cleavesitemotifdist/cleavesitemotifdist.sum())) / (np.log(len(cleavesitemotifdist))) )"
   ]
  },
  {
   "cell_type": "markdown",
   "id": "a368749a",
   "metadata": {},
   "source": [
    "# Purine Pyrimidine cleave-site motif diversity"
   ]
  },
  {
   "cell_type": "markdown",
   "id": "965133c3",
   "metadata": {},
   "source": [
    "Calculate the purine/pyrimidine cleave-site motif diversity from the nucleotide cleave-site motif frequencies, using the following helper functions:"
   ]
  },
  {
   "cell_type": "code",
   "execution_count": 83,
   "id": "2b84a9ff",
   "metadata": {},
   "outputs": [],
   "source": [
    "#Collapse nucleotide sequence to Purine/Pyrimidine sequence\n",
    "def nuc2purpyr(s):\n",
    "    n2p={'A':'R','G':'R','C':'Y','T':'Y'} #R=purine / Y=Pyrimidine\n",
    "    return \"\".join([n2p[c] for c in s])\n",
    "\n",
    "def allk(k,onlylexsmallest=False):\n",
    "    kmers=[]\n",
    "    for i in range(4**k):\n",
    "        s=\"\"\n",
    "        for j in range(k):\n",
    "            s+=\"ACGT\"[int(i/(4**(k-j-1)))%4]\n",
    "        if onlylexsmallest:\n",
    "            if s<=revcomp(s):\n",
    "                kmers.append(s)\n",
    "        else:\n",
    "            kmers.append(s)\n",
    "    return kmers\n",
    "\n",
    "def allkp(k,onlylexsmallest=False):\n",
    "    kpmers=[]\n",
    "    for i in range(2**k):\n",
    "        s=\"\"\n",
    "        for j in range(k):\n",
    "            s+=\"RY\"[int(i/(2**(k-j-1)))%2]\n",
    "        if onlylexsmallest:\n",
    "            if s<=revcomp(s):\n",
    "                kpmers.append(s)\n",
    "        else:\n",
    "            kpmers.append(s)\n",
    "    return kpmers\n",
    "\n",
    "def PPrefseqends(seqends,k):\n",
    "    seqendsk=len(seqends.columns[0])\n",
    "    kmers=allkp(k)\n",
    "    df=pd.DataFrame(columns=kmers)\n",
    "    for ki in kmers:\n",
    "        df[ki]=seqends[seqends.columns[seqends.columns.map(nuc2purpyr).str.slice(int((seqendsk-k)/2),seqendsk-int(np.ceil((seqendsk-k)/2)))==ki]].sum(axis=1)\n",
    "    return df"
   ]
  },
  {
   "cell_type": "code",
   "execution_count": null,
   "id": "c588ba04",
   "metadata": {},
   "outputs": [],
   "source": []
  },
  {
   "cell_type": "code",
   "execution_count": 80,
   "id": "9d5a115a",
   "metadata": {},
   "outputs": [],
   "source": [
    "dfpp=PPrefseqends(pd.DataFrame.from_dict(d,orient='index').T,8)"
   ]
  },
  {
   "cell_type": "markdown",
   "id": "537b3e0f",
   "metadata": {},
   "source": [
    "Calculate diversity score in a similar manner:"
   ]
  },
  {
   "cell_type": "code",
   "execution_count": 90,
   "id": "96ae43c7",
   "metadata": {},
   "outputs": [
    {
     "data": {
      "text/plain": [
       "0    0.949768\n",
       "dtype: float64"
      ]
     },
     "execution_count": 90,
     "metadata": {},
     "output_type": "execute_result"
    }
   ],
   "source": [
    "(dfpp).apply(lambda f: np.sum( (-(f/f.sum()) * np.log(f/f.sum())) /(np.log(f.shape[0])) ),axis=1)"
   ]
  },
  {
   "cell_type": "markdown",
   "id": "114ccb7e",
   "metadata": {},
   "source": [
    "# Fragment size diversity"
   ]
  },
  {
   "cell_type": "markdown",
   "id": "46f02e45",
   "metadata": {},
   "source": [
    "To calculate the fragment size diversity index we used a subset of the output from the stats subcommand of samtools. Which was run using the following parameters"
   ]
  },
  {
   "cell_type": "code",
   "execution_count": 93,
   "id": "37d2889f",
   "metadata": {},
   "outputs": [
    {
     "name": "stdout",
     "output_type": "stream",
     "text": [
      "/bin/bash: samtools: command not found\r\n"
     ]
    }
   ],
   "source": [
    "!samtools stats test.cram -F1024 --reference hg38flat.fa > test.stats"
   ]
  },
  {
   "cell_type": "code",
   "execution_count": 97,
   "id": "f254e9b5",
   "metadata": {},
   "outputs": [],
   "source": [
    "insertsizes={}\n",
    "\n",
    "for i in range(60,600):\n",
    "    insertsizes[i]=0\n",
    "\n",
    "with open(\"test.stats\",'rt') as statfile:\n",
    "    for line in statfile:\n",
    "        if line.startswith(\"IS\"):\n",
    "            cols=line.rstrip().split(\"\\t\")\n",
    "            insertsize=int(cols[1])\n",
    "            number=int(cols[2]) #use all pair orientations?!\n",
    "            if insertsize>=60 and insertsize<=600:\n",
    "                insertsizes[insertsize]=number\n"
   ]
  },
  {
   "cell_type": "code",
   "execution_count": 106,
   "id": "d89642ce",
   "metadata": {},
   "outputs": [],
   "source": [
    "fsdist=np.array(list(insertsizes.values()))+1"
   ]
  },
  {
   "cell_type": "code",
   "execution_count": 107,
   "id": "e77de5eb",
   "metadata": {},
   "outputs": [
    {
     "data": {
      "text/plain": [
       "0.7598509172946986"
      ]
     },
     "execution_count": 107,
     "metadata": {},
     "output_type": "execute_result"
    }
   ],
   "source": [
    "np.sum( (-(fsdist/fsdist.sum()) * np.log(fsdist/fsdist.sum())) / (np.log(len(fsdist))) )"
   ]
  },
  {
   "cell_type": "markdown",
   "id": "4425794f",
   "metadata": {},
   "source": [
    "# Bincount diversity"
   ]
  },
  {
   "cell_type": "markdown",
   "id": "05341c10",
   "metadata": {},
   "source": [
    "To calculate the bin count diversity index we used bedtools to create 50kbp (and 1Mbp) windows across the human genome, ignoring the short arms of acrocentric chromosomes, Par regions and other complicated regions of the genome:"
   ]
  },
  {
   "cell_type": "markdown",
   "id": "b51eab22",
   "metadata": {},
   "source": [
    "Todo so, it needs hg38.cytoBand.txt and hg38flat.chrom.sizes"
   ]
  },
  {
   "cell_type": "code",
   "execution_count": 111,
   "id": "c597adc1",
   "metadata": {},
   "outputs": [
    {
     "name": "stdout",
     "output_type": "stream",
     "text": [
      "/bin/bash: bedtools: command not found\r\n",
      "/bin/bash: bedtools: command not found\r\n",
      "/bin/bash: bedtools: command not found\r\n"
     ]
    }
   ],
   "source": [
    "!bedtools makewindows -g hg38flat.chrom.sizes -w 50000 | grep -v chrUn | grep -v random | grep -v alt | bedtools intersect -v - a - -b <(cat hg38.cytoBand.txt | grep -e acen -e stalk -e gvar) |  bedtools intersect -v -a - -b chrYpar.bed > windows.bed"
   ]
  },
  {
   "cell_type": "code",
   "execution_count": 114,
   "id": "01b327bb",
   "metadata": {},
   "outputs": [
    {
     "name": "stdout",
     "output_type": "stream",
     "text": [
      "/bin/bash: samtools: command not found\r\n",
      "/bin/bash: bedtools: command not found\r\n"
     ]
    }
   ],
   "source": [
    "!samtools view --reference hg38flat.fa -b -q 1 -F 1024 test.cram | bedtools coverage -sorted -iobuf 2G  -a windows.bed -b stdin > counts.bed"
   ]
  },
  {
   "cell_type": "markdown",
   "id": "43b6c122",
   "metadata": {},
   "source": [
    "Now just load the counts"
   ]
  },
  {
   "cell_type": "code",
   "execution_count": 127,
   "id": "328c41ba",
   "metadata": {},
   "outputs": [],
   "source": [
    "countdist=[]\n",
    "with open(\"counts.bed\") as counts:\n",
    "    for line in counts:\n",
    "        countdist.append(int(line.split(\"\\t\")[3]))"
   ]
  },
  {
   "cell_type": "markdown",
   "id": "2ade5a45",
   "metadata": {},
   "source": [
    "And similarly calculate the diversity index"
   ]
  },
  {
   "cell_type": "code",
   "execution_count": 129,
   "id": "3359070f",
   "metadata": {},
   "outputs": [],
   "source": [
    "countdist=np.array(list(countdist))+1"
   ]
  },
  {
   "cell_type": "code",
   "execution_count": 130,
   "id": "7572cba8",
   "metadata": {},
   "outputs": [
    {
     "data": {
      "text/plain": [
       "0.9962795252691058"
      ]
     },
     "execution_count": 130,
     "metadata": {},
     "output_type": "execute_result"
    }
   ],
   "source": [
    "np.sum( (-(countdist/countdist.sum()) * np.log(countdist/countdist.sum())) / (np.log(len(countdist))) )"
   ]
  }
 ],
 "metadata": {
  "kernelspec": {
   "display_name": "Python 3 (ipykernel)",
   "language": "python",
   "name": "python3"
  },
  "language_info": {
   "codemirror_mode": {
    "name": "ipython",
    "version": 3
   },
   "file_extension": ".py",
   "mimetype": "text/x-python",
   "name": "python",
   "nbconvert_exporter": "python",
   "pygments_lexer": "ipython3",
   "version": "3.7.9"
  }
 },
 "nbformat": 4,
 "nbformat_minor": 5
}
